{
 "cells": [
  {
   "cell_type": "code",
   "execution_count": 1,
   "metadata": {},
   "outputs": [],
   "source": [
    "from selenium import webdriver\n",
    "from selenium.webdriver.common.keys import Keys\n",
    "from selenium.webdriver.common.by import By"
   ]
  },
  {
   "cell_type": "code",
   "execution_count": 2,
   "metadata": {},
   "outputs": [],
   "source": [
    "url = 'https://www.google.co.kr/maps/?hl=ko&entry=ttu'\n",
    "\n",
    "driver = webdriver.Chrome()\n",
    "driver.get(url)"
   ]
  },
  {
   "cell_type": "code",
   "execution_count": 3,
   "metadata": {},
   "outputs": [],
   "source": [
    "search = driver.find_element(By.NAME, 'q')\n",
    "search.send_keys('인천 맛집')\n",
    "search.submit()"
   ]
  },
  {
   "cell_type": "code",
   "execution_count": 65,
   "metadata": {},
   "outputs": [],
   "source": [
    "search_button = driver.find_element(By.CSS_SELECTOR, 'div.pzfvzf')\n",
    "search_button.click()"
   ]
  },
  {
   "cell_type": "code",
   "execution_count": 28,
   "metadata": {},
   "outputs": [],
   "source": []
  },
  {
   "cell_type": "code",
   "execution_count": 68,
   "metadata": {},
   "outputs": [],
   "source": [
    "# 가게 상세정보 클릭\n",
    "place_list = driver.find_elements(By.CSS_SELECTOR, 'a.hfpxzc')\n",
    "place_list[2].click()"
   ]
  },
  {
   "cell_type": "code",
   "execution_count": 74,
   "metadata": {},
   "outputs": [],
   "source": [
    "place_list[3].click()"
   ]
  },
  {
   "cell_type": "code",
   "execution_count": 77,
   "metadata": {},
   "outputs": [
    {
     "name": "stdout",
     "output_type": "stream",
     "text": [
      "37.5426024\n",
      "126.6760953\n"
     ]
    }
   ],
   "source": [
    "current_url = driver.current_url\n",
    "\n",
    "lat_url = current_url.find(\"!3d\") + 3\n",
    "lng_url = current_url.find(\"!4d\") + 3\n",
    "lat = current_url[lat_url : lat_url+10]\n",
    "lng = current_url[lng_url : lng_url+11]\n",
    "print(lat)\n",
    "print(lng)"
   ]
  },
  {
   "cell_type": "markdown",
   "metadata": {},
   "source": []
  },
  {
   "cell_type": "code",
   "execution_count": 69,
   "metadata": {},
   "outputs": [
    {
     "name": "stdout",
     "output_type": "stream",
     "text": [
      "육더쿠\n",
      "인천광역시 서구 심곡동 서곶로301번길 16\n",
      "GMVF+VX 서구 인천광역시\n"
     ]
    }
   ],
   "source": [
    "# 가게 상세정보 보기 클릭 후\n",
    "    # 가게 이름\n",
    "place_name = driver.find_element(By.XPATH, '//*[@id=\"QA0Szd\"]/div/div/div[1]/div[3]/div/div[1]/div/div/div[2]/div[2]/div/div[1]/div[1]/h1')\n",
    "print(place_name.text)\n",
    "\n",
    "    # 가게 주소\n",
    "place_addr = driver.find_element(By.XPATH, '//*[@id=\"QA0Szd\"]/div/div/div[1]/div[3]/div/div[1]/div/div/div[2]/div[9]/div[3]/button/div/div[2]/div[1]')\n",
    "print(place_addr.text)\n",
    "\n",
    "    # 가게 전화번호\n",
    "place_phone = driver.find_element(By.XPATH, '//*[@id=\"QA0Szd\"]/div/div/div[1]/div[3]/div/div[1]/div/div/div[2]/div[9]/div[6]/button/div/div[2]/div[1]')\n",
    "print(place_phone.text)"
   ]
  },
  {
   "cell_type": "code",
   "execution_count": 70,
   "metadata": {},
   "outputs": [],
   "source": [
    "# 리뷰 탭 클릭\n",
    "review_button = driver.find_element(By.CSS_SELECTOR, 'div.RWPxGd > button:nth-child(2)')\n",
    "review_button.click()"
   ]
  },
  {
   "cell_type": "code",
   "execution_count": 71,
   "metadata": {},
   "outputs": [
    {
     "name": "stdout",
     "output_type": "stream",
     "text": [
      "4\n",
      "서비스 마인드가 좋았습니다. 사장님이 직원교육에 특별한 신경을 쓴 것 같았습니다.\n",
      "고기도 꽤 맛이 괜찮았고, 직원들이 직접 고기를 궈주는 시스템입니다. 이것저것 설명도 좋았고요.\n",
      "가격은 뭐 비싸지도 저렴하지도 않은 중간정도 되는듯합니다.…\n",
      "https://lh5.googleusercontent.com/p/AF1QipMw1sHo-dyRc1jdLKx39GIiwX3OY7vkxmnlBnt1=w300-h450-p-k-no\n"
     ]
    }
   ],
   "source": [
    "# 리뷰 글 전체\n",
    "review_div = driver.find_elements(By.CSS_SELECTOR, '#QA0Szd > div > div > div.w6VYqd > div.bJzME.Hu9e2e.tTVLSc > div > div.e07Vkf.kA9KIf > div > div > div.m6QErb.DxyBCb.kA9KIf.dS8AEf > div:nth-child(9)')\n",
    "\n",
    "# 별점 가져오기\n",
    "review_start = review_div[0].find_element(By.CSS_SELECTOR, 'div > div > div:nth-child(4) > div.DU9Pgb > span')\n",
    "print(review_start.accessible_name[-2])\n",
    "\n",
    "review_content = review_div[0].find_element(By.CSS_SELECTOR, 'div > div > div:nth-child(4) > div:nth-child(2) > div > span')\n",
    "print(review_content.text)\n",
    "\n",
    "review_image = review_div[0].find_element(By.CSS_SELECTOR, 'div > div > div:nth-child(4) > div.KtCyie > button')\n",
    "url = review_image.get_attribute('style')\n",
    "url = url[url.find('https://') : url.find('\");')]\n",
    "print(url)\n",
    "\n",
    "#print(reviews.text)\n",
    "\n",
    "#review_star = reviewsfind_element(By.CSS_SELECTOR, 'div.DU9Pgb')"
   ]
  },
  {
   "cell_type": "code",
   "execution_count": 73,
   "metadata": {},
   "outputs": [],
   "source": [
    "close_place = driver.find_element(By.XPATH, '//*[@id=\"QA0Szd\"]/div/div/div[1]/div[3]/div/div[1]/div/div/div[1]/div/div/div[3]/span/button')\n",
    "close_place.click()"
   ]
  },
  {
   "cell_type": "code",
   "execution_count": null,
   "metadata": {},
   "outputs": [],
   "source": [
    "# 스크롤 내리기\n",
    "scroll_div = driver.find_element(By.XPATH, '//*[@id=\"QA0Szd\"]/div/div/div[1]/div[2]/div/div[1]/div/div/div[2]/div[1]')\n",
    "scroll_div.send_keys(Keys.PAGE_DOWN)"
   ]
  },
  {
   "cell_type": "code",
   "execution_count": null,
   "metadata": {},
   "outputs": [],
   "source": [
    "url = 'https://www.google.co.kr/maps/?hl=ko&entry=ttu'\n",
    "\n",
    "driver = webdriver.Chrome()\n",
    "driver.get(url)"
   ]
  },
  {
   "cell_type": "code",
   "execution_count": null,
   "metadata": {},
   "outputs": [],
   "source": []
  },
  {
   "cell_type": "code",
   "execution_count": null,
   "metadata": {},
   "outputs": [],
   "source": []
  },
  {
   "cell_type": "code",
   "execution_count": null,
   "metadata": {},
   "outputs": [],
   "source": []
  }
 ],
 "metadata": {
  "kernelspec": {
   "display_name": "Test_App",
   "language": "python",
   "name": "python3"
  },
  "language_info": {
   "codemirror_mode": {
    "name": "ipython",
    "version": 3
   },
   "file_extension": ".py",
   "mimetype": "text/x-python",
   "name": "python",
   "nbconvert_exporter": "python",
   "pygments_lexer": "ipython3",
   "version": "3.10.12"
  },
  "orig_nbformat": 4
 },
 "nbformat": 4,
 "nbformat_minor": 2
}
